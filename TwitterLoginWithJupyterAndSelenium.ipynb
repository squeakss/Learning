{
 "cells": [
  {
   "cell_type": "code",
   "execution_count": 46,
   "id": "823c7a34",
   "metadata": {
    "collapsed": true
   },
   "outputs": [
    {
     "ename": "NoSuchWindowException",
     "evalue": "Message: no such window: target window already closed\nfrom unknown error: web view not found\n  (Session info: chrome=117.0.5938.89)\nStacktrace:\n\tGetHandleVerifier [0x00007FF64DB478A2+54818]\n\t(No symbol) [0x00007FF64DAB6AD2]\n\t(No symbol) [0x00007FF64D96DA3B]\n\t(No symbol) [0x00007FF64D94DEE8]\n\t(No symbol) [0x00007FF64D9D3237]\n\t(No symbol) [0x00007FF64D9E6C6F]\n\t(No symbol) [0x00007FF64D9CE883]\n\t(No symbol) [0x00007FF64D9A3691]\n\t(No symbol) [0x00007FF64D9A48D4]\n\tGetHandleVerifier [0x00007FF64DEAB9A2+3610402]\n\tGetHandleVerifier [0x00007FF64DF01870+3962352]\n\tGetHandleVerifier [0x00007FF64DEF9D5F+3930847]\n\tGetHandleVerifier [0x00007FF64DBE3656+693206]\n\t(No symbol) [0x00007FF64DAC1638]\n\t(No symbol) [0x00007FF64DABD944]\n\t(No symbol) [0x00007FF64DABDA72]\n\t(No symbol) [0x00007FF64DAAE123]\n\tBaseThreadInitThunk [0x00007FF9F0747344+20]\n\tRtlUserThreadStart [0x00007FF9F0D026B1+33]\n",
     "output_type": "error",
     "traceback": [
      "\u001b[1;31m---------------------------------------------------------------------------\u001b[0m",
      "\u001b[1;31mNoSuchWindowException\u001b[0m                     Traceback (most recent call last)",
      "Cell \u001b[1;32mIn[46], line 1\u001b[0m\n\u001b[1;32m----> 1\u001b[0m username \u001b[38;5;241m=\u001b[39m \u001b[43mdriver\u001b[49m\u001b[38;5;241;43m.\u001b[39;49m\u001b[43mfind_element\u001b[49m\u001b[43m(\u001b[49m\u001b[43mBy\u001b[49m\u001b[38;5;241;43m.\u001b[39;49m\u001b[43mXPATH\u001b[49m\u001b[43m,\u001b[49m\u001b[43m \u001b[49m\u001b[38;5;124;43m\"\u001b[39;49m\u001b[38;5;124;43m//input[@type=\u001b[39;49m\u001b[38;5;124;43m'\u001b[39;49m\u001b[38;5;124;43mtext\u001b[39;49m\u001b[38;5;124;43m'\u001b[39;49m\u001b[38;5;124;43m]\u001b[39;49m\u001b[38;5;124;43m\"\u001b[39;49m\u001b[43m)\u001b[49m\n\u001b[0;32m      2\u001b[0m username\u001b[38;5;241m.\u001b[39msend_keys(\u001b[38;5;124m\"\u001b[39m\u001b[38;5;124mD\u001b[39m\u001b[38;5;124m\"\u001b[39m)\n\u001b[0;32m      3\u001b[0m time\u001b[38;5;241m.\u001b[39msleep(\u001b[38;5;241m0.1\u001b[39m)\n",
      "File \u001b[1;32m~\\anaconda3\\envs\\env39\\lib\\site-packages\\selenium\\webdriver\\remote\\webdriver.py:831\u001b[0m, in \u001b[0;36mWebDriver.find_element\u001b[1;34m(self, by, value)\u001b[0m\n\u001b[0;32m    828\u001b[0m     by \u001b[38;5;241m=\u001b[39m By\u001b[38;5;241m.\u001b[39mCSS_SELECTOR\n\u001b[0;32m    829\u001b[0m     value \u001b[38;5;241m=\u001b[39m \u001b[38;5;124mf\u001b[39m\u001b[38;5;124m'\u001b[39m\u001b[38;5;124m[name=\u001b[39m\u001b[38;5;124m\"\u001b[39m\u001b[38;5;132;01m{\u001b[39;00mvalue\u001b[38;5;132;01m}\u001b[39;00m\u001b[38;5;124m\"\u001b[39m\u001b[38;5;124m]\u001b[39m\u001b[38;5;124m'\u001b[39m\n\u001b[1;32m--> 831\u001b[0m \u001b[38;5;28;01mreturn\u001b[39;00m \u001b[38;5;28;43mself\u001b[39;49m\u001b[38;5;241;43m.\u001b[39;49m\u001b[43mexecute\u001b[49m\u001b[43m(\u001b[49m\u001b[43mCommand\u001b[49m\u001b[38;5;241;43m.\u001b[39;49m\u001b[43mFIND_ELEMENT\u001b[49m\u001b[43m,\u001b[49m\u001b[43m \u001b[49m\u001b[43m{\u001b[49m\u001b[38;5;124;43m\"\u001b[39;49m\u001b[38;5;124;43musing\u001b[39;49m\u001b[38;5;124;43m\"\u001b[39;49m\u001b[43m:\u001b[49m\u001b[43m \u001b[49m\u001b[43mby\u001b[49m\u001b[43m,\u001b[49m\u001b[43m \u001b[49m\u001b[38;5;124;43m\"\u001b[39;49m\u001b[38;5;124;43mvalue\u001b[39;49m\u001b[38;5;124;43m\"\u001b[39;49m\u001b[43m:\u001b[49m\u001b[43m \u001b[49m\u001b[43mvalue\u001b[49m\u001b[43m}\u001b[49m\u001b[43m)\u001b[49m[\u001b[38;5;124m\"\u001b[39m\u001b[38;5;124mvalue\u001b[39m\u001b[38;5;124m\"\u001b[39m]\n",
      "File \u001b[1;32m~\\anaconda3\\envs\\env39\\lib\\site-packages\\selenium\\webdriver\\remote\\webdriver.py:440\u001b[0m, in \u001b[0;36mWebDriver.execute\u001b[1;34m(self, driver_command, params)\u001b[0m\n\u001b[0;32m    438\u001b[0m response \u001b[38;5;241m=\u001b[39m \u001b[38;5;28mself\u001b[39m\u001b[38;5;241m.\u001b[39mcommand_executor\u001b[38;5;241m.\u001b[39mexecute(driver_command, params)\n\u001b[0;32m    439\u001b[0m \u001b[38;5;28;01mif\u001b[39;00m response:\n\u001b[1;32m--> 440\u001b[0m     \u001b[38;5;28;43mself\u001b[39;49m\u001b[38;5;241;43m.\u001b[39;49m\u001b[43merror_handler\u001b[49m\u001b[38;5;241;43m.\u001b[39;49m\u001b[43mcheck_response\u001b[49m\u001b[43m(\u001b[49m\u001b[43mresponse\u001b[49m\u001b[43m)\u001b[49m\n\u001b[0;32m    441\u001b[0m     response[\u001b[38;5;124m\"\u001b[39m\u001b[38;5;124mvalue\u001b[39m\u001b[38;5;124m\"\u001b[39m] \u001b[38;5;241m=\u001b[39m \u001b[38;5;28mself\u001b[39m\u001b[38;5;241m.\u001b[39m_unwrap_value(response\u001b[38;5;241m.\u001b[39mget(\u001b[38;5;124m\"\u001b[39m\u001b[38;5;124mvalue\u001b[39m\u001b[38;5;124m\"\u001b[39m, \u001b[38;5;28;01mNone\u001b[39;00m))\n\u001b[0;32m    442\u001b[0m     \u001b[38;5;28;01mreturn\u001b[39;00m response\n",
      "File \u001b[1;32m~\\anaconda3\\envs\\env39\\lib\\site-packages\\selenium\\webdriver\\remote\\errorhandler.py:245\u001b[0m, in \u001b[0;36mErrorHandler.check_response\u001b[1;34m(self, response)\u001b[0m\n\u001b[0;32m    243\u001b[0m         alert_text \u001b[38;5;241m=\u001b[39m value[\u001b[38;5;124m\"\u001b[39m\u001b[38;5;124malert\u001b[39m\u001b[38;5;124m\"\u001b[39m]\u001b[38;5;241m.\u001b[39mget(\u001b[38;5;124m\"\u001b[39m\u001b[38;5;124mtext\u001b[39m\u001b[38;5;124m\"\u001b[39m)\n\u001b[0;32m    244\u001b[0m     \u001b[38;5;28;01mraise\u001b[39;00m exception_class(message, screen, stacktrace, alert_text)  \u001b[38;5;66;03m# type: ignore[call-arg]  # mypy is not smart enough here\u001b[39;00m\n\u001b[1;32m--> 245\u001b[0m \u001b[38;5;28;01mraise\u001b[39;00m exception_class(message, screen, stacktrace)\n",
      "\u001b[1;31mNoSuchWindowException\u001b[0m: Message: no such window: target window already closed\nfrom unknown error: web view not found\n  (Session info: chrome=117.0.5938.89)\nStacktrace:\n\tGetHandleVerifier [0x00007FF64DB478A2+54818]\n\t(No symbol) [0x00007FF64DAB6AD2]\n\t(No symbol) [0x00007FF64D96DA3B]\n\t(No symbol) [0x00007FF64D94DEE8]\n\t(No symbol) [0x00007FF64D9D3237]\n\t(No symbol) [0x00007FF64D9E6C6F]\n\t(No symbol) [0x00007FF64D9CE883]\n\t(No symbol) [0x00007FF64D9A3691]\n\t(No symbol) [0x00007FF64D9A48D4]\n\tGetHandleVerifier [0x00007FF64DEAB9A2+3610402]\n\tGetHandleVerifier [0x00007FF64DF01870+3962352]\n\tGetHandleVerifier [0x00007FF64DEF9D5F+3930847]\n\tGetHandleVerifier [0x00007FF64DBE3656+693206]\n\t(No symbol) [0x00007FF64DAC1638]\n\t(No symbol) [0x00007FF64DABD944]\n\t(No symbol) [0x00007FF64DABDA72]\n\t(No symbol) [0x00007FF64DAAE123]\n\tBaseThreadInitThunk [0x00007FF9F0747344+20]\n\tRtlUserThreadStart [0x00007FF9F0D026B1+33]\n"
     ]
    }
   ],
   "source": [
    "\n"
   ]
  },
  {
   "cell_type": "code",
   "execution_count": 2,
   "id": "7323353c",
   "metadata": {},
   "outputs": [],
   "source": [
    "import time\n",
    "from selenium import webdriver\n",
    "from selenium.webdriver.common.by import By\n",
    "\n",
    "driver = webdriver.Chrome()\n",
    "driver.get(\"https://twitter.com/i/flow/login\")"
   ]
  },
  {
   "cell_type": "code",
   "execution_count": 3,
   "id": "a88ad115",
   "metadata": {},
   "outputs": [],
   "source": [
    "username = driver.find_element(By.XPATH, \"//input[@type='text']\")\n",
    "username.send_keys(\"\")\n",
    "time.sleep(0.1)\n",
    "username.send_keys(\"\")\n",
    "time.sleep(0.1)\n",
    "username.send_keys(\"\")\n",
    "time.sleep(0.1)\n",
    "username.send_keys(\"\")\n",
    "time.sleep(0.1)\n",
    "username.send_keys(\"\")\n",
    "time.sleep(0.1)\n",
    "username.send_keys(\"\")\n",
    "time.sleep(0.1)\n",
    "username.send_keys(\"\")\n",
    "time.sleep(0.1)\n",
    "username.send_keys(\"\")\n",
    "time.sleep(0.1)\n",
    "username.send_keys(\"\")\n",
    "time.sleep(0.1)\n",
    "username.send_keys(\"\")\n",
    "time.sleep(0.1)\n",
    "username.send_keys(\"\")\n",
    "time.sleep(0.1)\n",
    "username.send_keys(\"\")\n",
    "time.sleep(0.1)\n",
    "username.send_keys(\"\")\n",
    "time.sleep(0.1)\n",
    "username.send_keys(\"\")"
   ]
  },
  {
   "cell_type": "code",
   "execution_count": null,
   "id": "685ee525",
   "metadata": {},
   "outputs": [],
   "source": []
  },
  {
   "cell_type": "code",
   "execution_count": 4,
   "id": "1b647d85",
   "metadata": {},
   "outputs": [],
   "source": [
    "all_buttons = driver.find_elements(\n",
    "    By.XPATH, \"//div[@role='button']\"\n",
    ")\n",
    "all_buttons[-2].click()\n"
   ]
  },
  {
   "cell_type": "code",
   "execution_count": 5,
   "id": "a38a9561",
   "metadata": {},
   "outputs": [],
   "source": [
    "password = driver.find_element(By.XPATH, \"//input[@type='password']\")\n",
    "password.send_keys(\"\")\n",
    "time.sleep(0.1)\n",
    "password.send_keys(\"\")\n",
    "time.sleep(0.1)\n",
    "password.send_keys(\"\")\n",
    "time.sleep(0.1)\n",
    "password.send_keys(\"\")\n",
    "time.sleep(0.1)\n",
    "password.send_keys(\"\")\n",
    "time.sleep(0.1)\n",
    "password.send_keys(\"\")\n",
    "time.sleep(0.1)\n",
    "password.send_keys(\"\")\n",
    "time.sleep(0.1)\n",
    "password.send_keys(\"\")\n",
    "time.sleep(0.1)\n",
    "password.send_keys(\"\")\n",
    "time.sleep(0.1)\n",
    "password.send_keys(\"\")\n",
    "time.sleep(0.1)\n",
    "password.send_keys(\"\")\n",
    "time.sleep(0.1)\n",
    "password.send_keys(\"\")\n",
    "time.sleep(0.1)\n",
    "password.send_keys(\"\")\n",
    "time.sleep(0.1)\n",
    "password.send_keys(\"\")\n",
    "time.sleep(0.1)\n",
    "password.send_keys(\"\")"
   ]
  },
  {
   "cell_type": "code",
   "execution_count": 6,
   "id": "ba19b73f",
   "metadata": {},
   "outputs": [],
   "source": [
    "all_buttons = driver.find_elements(\n",
    "    By.XPATH, \"//div[@role='button']\"\n",
    ")\n",
    "all_buttons[-1].click()"
   ]
  },
  {
   "cell_type": "code",
   "execution_count": null,
   "id": "6315c1d8",
   "metadata": {},
   "outputs": [],
   "source": []
  }
 ],
 "metadata": {
  "kernelspec": {
   "display_name": "Python 3 (ipykernel)",
   "language": "python",
   "name": "python3"
  },
  "language_info": {
   "codemirror_mode": {
    "name": "ipython",
    "version": 3
   },
   "file_extension": ".py",
   "mimetype": "text/x-python",
   "name": "python",
   "nbconvert_exporter": "python",
   "pygments_lexer": "ipython3",
   "version": "3.9.18"
  }
 },
 "nbformat": 4,
 "nbformat_minor": 5
}
