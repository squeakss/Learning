{
 "cells": [
  {
   "cell_type": "code",
   "execution_count": 23,
   "id": "e1a4eb09",
   "metadata": {},
   "outputs": [],
   "source": [
    "from selenium import webdriver\n",
    "from selenium.webdriver.common.by import By\n",
    "import time\n",
    "\n",
    "# Initialize the WebDriver \n",
    "driver = webdriver.Chrome()\n",
    "\n",
    "# Open Instagram's login page\n",
    "driver.get(\"https://www.instagram.com/accounts/login/\")\n",
    "\n",
    "time.sleep(10)"
   ]
  },
  {
   "cell_type": "code",
   "execution_count": 24,
   "id": "46007b76",
   "metadata": {},
   "outputs": [],
   "source": [
    "username = driver.find_element(By.XPATH, \"//input[@aria-label='Phone number, username, or email']\")\n",
    "username.send_keys(\"\")\n",
    "time.sleep(0.1)\n",
    "username.send_keys(\"\")\n",
    "time.sleep(0.1)\n",
    "username.send_keys(\"\")\n",
    "time.sleep(0.1)\n",
    "username.send_keys(\"\")\n",
    "time.sleep(0.1)\n",
    "username.send_keys(\"\")\n",
    "time.sleep(0.1)\n",
    "username.send_keys(\"\")\n",
    "time.sleep(0.1)\n",
    "username.send_keys(\"\")\n",
    "time.sleep(0.1)\n",
    "username.send_keys(\"\")\n",
    "time.sleep(0.1)\n",
    "username.send_keys(\"\")\n",
    "time.sleep(0.1)\n",
    "username.send_keys(\"\")\n",
    "time.sleep(0.1)\n",
    "username.send_keys(\"\")\n",
    "time.sleep(0.1)\n",
    "username.send_keys(\"\")\n",
    "time.sleep(0.1)\n",
    "username.send_keys(\"\")\n",
    "time.sleep(0.1)\n",
    "username.send_keys(\"\")\n",
    "time.sleep(10)"
   ]
  },
  {
   "cell_type": "code",
   "execution_count": 25,
   "id": "6062de62",
   "metadata": {},
   "outputs": [],
   "source": [
    "password = driver.find_element(By.XPATH, \"//input[@type='password']\")\n",
    "password.send_keys(\"\")\n",
    "time.sleep(0.1)\n",
    "password.send_keys(\"\")\n",
    "time.sleep(0.1)\n",
    "password.send_keys(\"\")\n",
    "time.sleep(0.1)\n",
    "password.send_keys(\"\")\n",
    "time.sleep(0.1)\n",
    "password.send_keys(\"\")\n",
    "time.sleep(0.1)\n",
    "password.send_keys(\"\")\n",
    "time.sleep(0.1)\n",
    "password.send_keys(\"\")\n",
    "time.sleep(0.1)\n",
    "password.send_keys(\"\")\n",
    "time.sleep(0.1)\n",
    "password.send_keys(\"\")\n",
    "time.sleep(0.1)\n",
    "password.send_keys(\"\")\n",
    "time.sleep(0.1)\n",
    "password.send_keys(\"\")\n",
    "time.sleep(0.1)\n",
    "password.send_keys(\"\")\n",
    "time.sleep(0.1)\n",
    "password.send_keys(\"\")\n",
    "time.sleep(0.1)\n",
    "password.send_keys(\"\")\n",
    "time.sleep(0.1)\n",
    "password.send_keys(\"\")\n",
    "time.sleep(10)"
   ]
  },
  {
   "cell_type": "code",
   "execution_count": 26,
   "id": "ab51cf99",
   "metadata": {
    "scrolled": true
   },
   "outputs": [],
   "source": [
    "all_buttons = driver.find_elements(\n",
    "    By.XPATH, \"//button[@type='submit']\"\n",
    ")\n",
    "all_buttons[0].click()\n",
    "time.sleep(10)"
   ]
  },
  {
   "cell_type": "code",
   "execution_count": 34,
   "id": "2745b7b6",
   "metadata": {
    "scrolled": true
   },
   "outputs": [],
   "source": [
    "all_buttons = driver.find_elements(\n",
    "    By.XPATH, \"//button[@type='button']\"\n",
    ")\n",
    "all_buttons[1].click()"
   ]
  },
  {
   "cell_type": "code",
   "execution_count": null,
   "id": "bec66229",
   "metadata": {},
   "outputs": [],
   "source": []
  }
 ],
 "metadata": {
  "kernelspec": {
   "display_name": "Python 3 (ipykernel)",
   "language": "python",
   "name": "python3"
  },
  "language_info": {
   "codemirror_mode": {
    "name": "ipython",
    "version": 3
   },
   "file_extension": ".py",
   "mimetype": "text/x-python",
   "name": "python",
   "nbconvert_exporter": "python",
   "pygments_lexer": "ipython3",
   "version": "3.9.18"
  }
 },
 "nbformat": 4,
 "nbformat_minor": 5
}
